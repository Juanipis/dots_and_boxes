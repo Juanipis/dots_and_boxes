{
 "cells": [
  {
   "cell_type": "code",
   "execution_count": 1,
   "metadata": {},
   "outputs": [],
   "source": [
    "from utils import game_manager"
   ]
  },
  {
   "cell_type": "code",
   "execution_count": 2,
   "metadata": {},
   "outputs": [
    {
     "name": "stdout",
     "output_type": "stream",
     "text": [
      "<bound method GameManager.mini_max of <utils.game_manager.GameManager object at 0x75958086bac0>>\n"
     ]
    },
    {
     "data": {
      "text/plain": [
       "    AI Score : 0\n",
       "Player Score : 0\n",
       "\t*   **   *\n",
       "\t          \n",
       "\t*   **   *\n",
       "\t*   **   *\n",
       "\t          \n",
       "\t*   **   *\n"
      ]
     },
     "execution_count": 2,
     "metadata": {},
     "output_type": "execute_result"
    }
   ],
   "source": [
    "game_min = game_manager.GameManager(2, 2, 3)\n",
    "print(game_min._mode)\n",
    "game_min"
   ]
  },
  {
   "cell_type": "code",
   "execution_count": 3,
   "metadata": {},
   "outputs": [
    {
     "name": "stdout",
     "output_type": "stream",
     "text": [
      "Tu movimiento: (2, 0) a (2, 1)\n",
      "Movimiento de la máquina: ((1, 2), (2, 2))\n",
      "Player 1: 0\n",
      "Player AI: 0\n",
      "\n",
      "   *   *   *\n",
      "           |\n",
      "   *   *   *\n",
      "            \n",
      "   *   *---*\n",
      "\n"
     ]
    }
   ],
   "source": [
    "# Tu movimiento\n",
    "origin = (2, 0)\n",
    "dest = (2, 1)\n",
    "print(\"Tu movimiento:\", origin, \"a\", dest)\n",
    "move_result = game_min.get_move(origin, dest)\n",
    "\n",
    "# Verifica y muestra el resultado del movimiento\n",
    "if move_result[1] is not None:\n",
    "    print(\"Resultado del juego:\", move_result[1])\n",
    "else:\n",
    "    print(\"Movimiento de la máquina:\", move_result[0])\n",
    "\n",
    "# Opcional: Mostrar el tablero actualizado\n",
    "game_min._board.display_board()\n"
   ]
  },
  {
   "cell_type": "code",
   "execution_count": 4,
   "metadata": {},
   "outputs": [
    {
     "name": "stdout",
     "output_type": "stream",
     "text": [
      "Tu movimiento: (1, 0) a (2, 0)\n",
      "Movimiento de la máquina: ((0, 0), (0, 1))\n",
      "Player 1: 0\n",
      "Player AI: 0\n",
      "\n",
      "   *   *---*\n",
      "   |       |\n",
      "   *   *   *\n",
      "            \n",
      "   *   *---*\n",
      "\n"
     ]
    }
   ],
   "source": [
    "# Tu movimiento\n",
    "origin = (1, 0)\n",
    "dest = (2, 0)\n",
    "print(\"Tu movimiento:\", origin, \"a\", dest)\n",
    "move_result = game_min.get_move(origin, dest)\n",
    "\n",
    "# Verifica y muestra el resultado del movimiento\n",
    "if move_result[1] is not None:\n",
    "    print(\"Resultado del juego:\", move_result[1])\n",
    "else:\n",
    "    print(\"Movimiento de la máquina:\", move_result[0])\n",
    "\n",
    "# Opcional: Mostrar el tablero actualizado\n",
    "game_min._board.display_board()\n"
   ]
  },
  {
   "cell_type": "code",
   "execution_count": 5,
   "metadata": {},
   "outputs": [
    {
     "name": "stdout",
     "output_type": "stream",
     "text": [
      "Tu movimiento: (0, 0) a (0, 1)\n",
      "Invalid player move\n",
      "Movimiento de la máquina: None\n",
      "Player 1: 0\n",
      "Player AI: 0\n",
      "\n",
      "   *   *---*\n",
      "   |       |\n",
      "   *   *   *\n",
      "            \n",
      "   *   *---*\n",
      "\n"
     ]
    }
   ],
   "source": [
    "# Tu movimiento\n",
    "origin = (0, 0)\n",
    "dest = (0, 1)\n",
    "print(\"Tu movimiento:\", origin, \"a\", dest)\n",
    "move_result = game_min.get_move(origin, dest)\n",
    "\n",
    "# Verifica y muestra el resultado del movimiento\n",
    "if move_result[1] is not None:\n",
    "    print(\"Resultado del juego:\", move_result[1])\n",
    "else:\n",
    "    print(\"Movimiento de la máquina:\", move_result[0])\n",
    "\n",
    "# Opcional: Mostrar el tablero actualizado\n",
    "game_min._board.display_board()\n"
   ]
  },
  {
   "cell_type": "code",
   "execution_count": 6,
   "metadata": {},
   "outputs": [
    {
     "name": "stdout",
     "output_type": "stream",
     "text": [
      "Tu movimiento: (0, 2) a (1, 2)\n",
      "Movimiento de la máquina: ((0, 1), (0, 2))\n",
      "Player 1: 0\n",
      "Player AI: 0\n",
      "\n",
      "   *   *---*\n",
      "   |       |\n",
      "   *   *   *\n",
      "   |        \n",
      "   *---*---*\n",
      "\n"
     ]
    }
   ],
   "source": [
    "# Tu movimiento\n",
    "origin = (0, 2)\n",
    "dest = (1, 2)\n",
    "print(\"Tu movimiento:\", origin, \"a\", dest)\n",
    "move_result = game_min.get_move(origin, dest)\n",
    "\n",
    "# Verifica y muestra el resultado del movimiento\n",
    "if move_result[1] is not None:\n",
    "    print(\"Resultado del juego:\", move_result[1])\n",
    "else:\n",
    "    print(\"Movimiento de la máquina:\", move_result[0])\n",
    "\n",
    "# Opcional: Mostrar el tablero actualizado\n",
    "game_min._board.display_board()\n"
   ]
  },
  {
   "cell_type": "code",
   "execution_count": 7,
   "metadata": {},
   "outputs": [
    {
     "name": "stdout",
     "output_type": "stream",
     "text": [
      "Tu movimiento: (0, 1) a (1, 1)\n",
      "Movimiento de la máquina: ((1, 1), (2, 1))\n",
      "Player 1: 0\n",
      "Player AI: 0\n",
      "\n",
      "   *   *---*\n",
      "   |       |\n",
      "   *---*---*\n",
      "   |        \n",
      "   *---*---*\n",
      "\n"
     ]
    }
   ],
   "source": [
    "# Tu movimiento\n",
    "origin = (0, 1)\n",
    "dest = (1, 1)\n",
    "print(\"Tu movimiento:\", origin, \"a\", dest)\n",
    "move_result = game_min.get_move(origin, dest)\n",
    "\n",
    "# Verifica y muestra el resultado del movimiento\n",
    "if move_result[1] is not None:\n",
    "    print(\"Resultado del juego:\", move_result[1])\n",
    "else:\n",
    "    print(\"Movimiento de la máquina:\", move_result[0])\n",
    "\n",
    "# Opcional: Mostrar el tablero actualizado\n",
    "game_min._board.display_board()\n"
   ]
  },
  {
   "cell_type": "code",
   "execution_count": 8,
   "metadata": {},
   "outputs": [
    {
     "name": "stdout",
     "output_type": "stream",
     "text": [
      "Tu movimiento: (2, 1) a (2, 2)\n",
      "Movimiento de la máquina: ((1, 1), (1, 2))\n",
      "Player 1: 0\n",
      "Player AI: 2\n",
      "\n",
      "   *   *---*\n",
      "   |     A |\n",
      "   *---*---*\n",
      "   |   | A |\n",
      "   *---*---*\n",
      "\n"
     ]
    }
   ],
   "source": [
    "# Tu movimiento\n",
    "origin = (2, 1)\n",
    "dest = (2, 2)\n",
    "print(\"Tu movimiento:\", origin, \"a\", dest)\n",
    "move_result = game_min.get_move(origin, dest)\n",
    "\n",
    "# Verifica y muestra el resultado del movimiento\n",
    "if move_result[1] is not None:\n",
    "    print(\"Resultado del juego:\", move_result[1])\n",
    "else:\n",
    "    print(\"Movimiento de la máquina:\", move_result[0])\n",
    "\n",
    "# Opcional: Mostrar el tablero actualizado\n",
    "game_min._board.display_board()\n"
   ]
  }
 ],
 "metadata": {
  "kernelspec": {
   "display_name": "Python 3",
   "language": "python",
   "name": "python3"
  },
  "language_info": {
   "codemirror_mode": {
    "name": "ipython",
    "version": 3
   },
   "file_extension": ".py",
   "mimetype": "text/x-python",
   "name": "python",
   "nbconvert_exporter": "python",
   "pygments_lexer": "ipython3",
   "version": "3.10.12"
  }
 },
 "nbformat": 4,
 "nbformat_minor": 2
}
