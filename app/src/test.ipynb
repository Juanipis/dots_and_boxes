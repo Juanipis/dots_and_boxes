{
 "cells": [
  {
   "cell_type": "code",
   "execution_count": 3,
   "metadata": {},
   "outputs": [
    {
     "name": "stdout",
     "output_type": "stream",
     "text": [
      "Server started at port 50051 on localhost\n"
     ]
    },
    {
     "ename": "KeyboardInterrupt",
     "evalue": "",
     "output_type": "error",
     "traceback": [
      "\u001b[0;31m---------------------------------------------------------------------------\u001b[0m",
      "\u001b[0;31mKeyboardInterrupt\u001b[0m                         Traceback (most recent call last)",
      "Cell \u001b[0;32mIn[3], line 85\u001b[0m\n\u001b[1;32m     81\u001b[0m     server\u001b[38;5;241m.\u001b[39mwait_for_termination()\n\u001b[1;32m     84\u001b[0m \u001b[38;5;28;01mif\u001b[39;00m \u001b[38;5;18m__name__\u001b[39m \u001b[38;5;241m==\u001b[39m \u001b[38;5;124m\"\u001b[39m\u001b[38;5;124m__main__\u001b[39m\u001b[38;5;124m\"\u001b[39m:\n\u001b[0;32m---> 85\u001b[0m     \u001b[43mserve\u001b[49m\u001b[43m(\u001b[49m\u001b[43m)\u001b[49m\n",
      "Cell \u001b[0;32mIn[3], line 81\u001b[0m, in \u001b[0;36mserve\u001b[0;34m()\u001b[0m\n\u001b[1;32m     79\u001b[0m server\u001b[38;5;241m.\u001b[39mstart()\n\u001b[1;32m     80\u001b[0m \u001b[38;5;28mprint\u001b[39m(\u001b[38;5;124m\"\u001b[39m\u001b[38;5;124mServer started at port 50051 on localhost\u001b[39m\u001b[38;5;124m\"\u001b[39m)\n\u001b[0;32m---> 81\u001b[0m \u001b[43mserver\u001b[49m\u001b[38;5;241;43m.\u001b[39;49m\u001b[43mwait_for_termination\u001b[49m\u001b[43m(\u001b[49m\u001b[43m)\u001b[49m\n",
      "File \u001b[0;32m~/.local/lib/python3.10/site-packages/grpc/_server.py:1340\u001b[0m, in \u001b[0;36m_Server.wait_for_termination\u001b[0;34m(self, timeout)\u001b[0m\n\u001b[1;32m   1336\u001b[0m \u001b[38;5;28;01mdef\u001b[39;00m \u001b[38;5;21mwait_for_termination\u001b[39m(\u001b[38;5;28mself\u001b[39m, timeout: Optional[\u001b[38;5;28mfloat\u001b[39m] \u001b[38;5;241m=\u001b[39m \u001b[38;5;28;01mNone\u001b[39;00m) \u001b[38;5;241m-\u001b[39m\u001b[38;5;241m>\u001b[39m \u001b[38;5;28mbool\u001b[39m:\n\u001b[1;32m   1337\u001b[0m     \u001b[38;5;66;03m# NOTE(https://bugs.python.org/issue35935)\u001b[39;00m\n\u001b[1;32m   1338\u001b[0m     \u001b[38;5;66;03m# Remove this workaround once threading.Event.wait() is working with\u001b[39;00m\n\u001b[1;32m   1339\u001b[0m     \u001b[38;5;66;03m# CTRL+C across platforms.\u001b[39;00m\n\u001b[0;32m-> 1340\u001b[0m     \u001b[38;5;28;01mreturn\u001b[39;00m \u001b[43m_common\u001b[49m\u001b[38;5;241;43m.\u001b[39;49m\u001b[43mwait\u001b[49m\u001b[43m(\u001b[49m\n\u001b[1;32m   1341\u001b[0m \u001b[43m        \u001b[49m\u001b[38;5;28;43mself\u001b[39;49m\u001b[38;5;241;43m.\u001b[39;49m\u001b[43m_state\u001b[49m\u001b[38;5;241;43m.\u001b[39;49m\u001b[43mtermination_event\u001b[49m\u001b[38;5;241;43m.\u001b[39;49m\u001b[43mwait\u001b[49m\u001b[43m,\u001b[49m\n\u001b[1;32m   1342\u001b[0m \u001b[43m        \u001b[49m\u001b[38;5;28;43mself\u001b[39;49m\u001b[38;5;241;43m.\u001b[39;49m\u001b[43m_state\u001b[49m\u001b[38;5;241;43m.\u001b[39;49m\u001b[43mtermination_event\u001b[49m\u001b[38;5;241;43m.\u001b[39;49m\u001b[43mis_set\u001b[49m\u001b[43m,\u001b[49m\n\u001b[1;32m   1343\u001b[0m \u001b[43m        \u001b[49m\u001b[43mtimeout\u001b[49m\u001b[38;5;241;43m=\u001b[39;49m\u001b[43mtimeout\u001b[49m\u001b[43m,\u001b[49m\n\u001b[1;32m   1344\u001b[0m \u001b[43m    \u001b[49m\u001b[43m)\u001b[49m\n",
      "File \u001b[0;32m~/.local/lib/python3.10/site-packages/grpc/_common.py:156\u001b[0m, in \u001b[0;36mwait\u001b[0;34m(wait_fn, wait_complete_fn, timeout, spin_cb)\u001b[0m\n\u001b[1;32m    154\u001b[0m \u001b[38;5;28;01mif\u001b[39;00m timeout \u001b[38;5;129;01mis\u001b[39;00m \u001b[38;5;28;01mNone\u001b[39;00m:\n\u001b[1;32m    155\u001b[0m     \u001b[38;5;28;01mwhile\u001b[39;00m \u001b[38;5;129;01mnot\u001b[39;00m wait_complete_fn():\n\u001b[0;32m--> 156\u001b[0m         \u001b[43m_wait_once\u001b[49m\u001b[43m(\u001b[49m\u001b[43mwait_fn\u001b[49m\u001b[43m,\u001b[49m\u001b[43m \u001b[49m\u001b[43mMAXIMUM_WAIT_TIMEOUT\u001b[49m\u001b[43m,\u001b[49m\u001b[43m \u001b[49m\u001b[43mspin_cb\u001b[49m\u001b[43m)\u001b[49m\n\u001b[1;32m    157\u001b[0m \u001b[38;5;28;01melse\u001b[39;00m:\n\u001b[1;32m    158\u001b[0m     end \u001b[38;5;241m=\u001b[39m time\u001b[38;5;241m.\u001b[39mtime() \u001b[38;5;241m+\u001b[39m timeout\n",
      "File \u001b[0;32m~/.local/lib/python3.10/site-packages/grpc/_common.py:116\u001b[0m, in \u001b[0;36m_wait_once\u001b[0;34m(wait_fn, timeout, spin_cb)\u001b[0m\n\u001b[1;32m    111\u001b[0m \u001b[38;5;28;01mdef\u001b[39;00m \u001b[38;5;21m_wait_once\u001b[39m(\n\u001b[1;32m    112\u001b[0m     wait_fn: Callable[\u001b[38;5;241m.\u001b[39m\u001b[38;5;241m.\u001b[39m\u001b[38;5;241m.\u001b[39m, \u001b[38;5;28mbool\u001b[39m],\n\u001b[1;32m    113\u001b[0m     timeout: \u001b[38;5;28mfloat\u001b[39m,\n\u001b[1;32m    114\u001b[0m     spin_cb: Optional[Callable[[], \u001b[38;5;28;01mNone\u001b[39;00m]],\n\u001b[1;32m    115\u001b[0m ):\n\u001b[0;32m--> 116\u001b[0m     \u001b[43mwait_fn\u001b[49m\u001b[43m(\u001b[49m\u001b[43mtimeout\u001b[49m\u001b[38;5;241;43m=\u001b[39;49m\u001b[43mtimeout\u001b[49m\u001b[43m)\u001b[49m\n\u001b[1;32m    117\u001b[0m     \u001b[38;5;28;01mif\u001b[39;00m spin_cb \u001b[38;5;129;01mis\u001b[39;00m \u001b[38;5;129;01mnot\u001b[39;00m \u001b[38;5;28;01mNone\u001b[39;00m:\n\u001b[1;32m    118\u001b[0m         spin_cb()\n",
      "File \u001b[0;32m/usr/lib/python3.10/threading.py:607\u001b[0m, in \u001b[0;36mEvent.wait\u001b[0;34m(self, timeout)\u001b[0m\n\u001b[1;32m    605\u001b[0m signaled \u001b[38;5;241m=\u001b[39m \u001b[38;5;28mself\u001b[39m\u001b[38;5;241m.\u001b[39m_flag\n\u001b[1;32m    606\u001b[0m \u001b[38;5;28;01mif\u001b[39;00m \u001b[38;5;129;01mnot\u001b[39;00m signaled:\n\u001b[0;32m--> 607\u001b[0m     signaled \u001b[38;5;241m=\u001b[39m \u001b[38;5;28;43mself\u001b[39;49m\u001b[38;5;241;43m.\u001b[39;49m\u001b[43m_cond\u001b[49m\u001b[38;5;241;43m.\u001b[39;49m\u001b[43mwait\u001b[49m\u001b[43m(\u001b[49m\u001b[43mtimeout\u001b[49m\u001b[43m)\u001b[49m\n\u001b[1;32m    608\u001b[0m \u001b[38;5;28;01mreturn\u001b[39;00m signaled\n",
      "File \u001b[0;32m/usr/lib/python3.10/threading.py:324\u001b[0m, in \u001b[0;36mCondition.wait\u001b[0;34m(self, timeout)\u001b[0m\n\u001b[1;32m    322\u001b[0m \u001b[38;5;28;01melse\u001b[39;00m:\n\u001b[1;32m    323\u001b[0m     \u001b[38;5;28;01mif\u001b[39;00m timeout \u001b[38;5;241m>\u001b[39m \u001b[38;5;241m0\u001b[39m:\n\u001b[0;32m--> 324\u001b[0m         gotit \u001b[38;5;241m=\u001b[39m \u001b[43mwaiter\u001b[49m\u001b[38;5;241;43m.\u001b[39;49m\u001b[43macquire\u001b[49m\u001b[43m(\u001b[49m\u001b[38;5;28;43;01mTrue\u001b[39;49;00m\u001b[43m,\u001b[49m\u001b[43m \u001b[49m\u001b[43mtimeout\u001b[49m\u001b[43m)\u001b[49m\n\u001b[1;32m    325\u001b[0m     \u001b[38;5;28;01melse\u001b[39;00m:\n\u001b[1;32m    326\u001b[0m         gotit \u001b[38;5;241m=\u001b[39m waiter\u001b[38;5;241m.\u001b[39macquire(\u001b[38;5;28;01mFalse\u001b[39;00m)\n",
      "\u001b[0;31mKeyboardInterrupt\u001b[0m: "
     ]
    }
   ],
   "source": [
    "from concurrent import futures\n",
    "import grpc\n",
    "import game_pb2\n",
    "import game_pb2_grpc\n",
    "from utils.game_manager import GameManager\n",
    "\n",
    "\n",
    "class GameService(game_pb2_grpc.GameServiceServicer):\n",
    "    def __init__(self):\n",
    "        self.games = {}\n",
    "\n",
    "    def StartGame(self, request, context):\n",
    "        game_id = context.peer()\n",
    "        game = GameManager(request.rows, request.cols, request.level)\n",
    "        self.games[game_id] = game\n",
    "\n",
    "        # Ejecutar el primer movimiento\n",
    "        origin = (request.first_move.origin_x, request.first_move.origin_y)\n",
    "        dest = (request.first_move.dest_x, request.first_move.dest_y)\n",
    "        move_result = game.get_move(origin, dest)\n",
    "\n",
    "        if move_result[1] is not None:\n",
    "            status = \"game_over\"\n",
    "            message = move_result[1]\n",
    "        else:\n",
    "            status = \"continue\"\n",
    "            message = f\"Movimiento de la máquina: {move_result[0]}\"\n",
    "\n",
    "        next_move = (\n",
    "            game_pb2.GameMove(\n",
    "                origin_x=move_result[0][0][0],\n",
    "                origin_y=move_result[0][0][1],\n",
    "                dest_x=move_result[0][1][0],\n",
    "                dest_y=move_result[0][1][1],\n",
    "            )\n",
    "            if move_result[0]\n",
    "            else None\n",
    "        )\n",
    "\n",
    "        return game_pb2.MoveResponse(\n",
    "            status=status, message=message, next_move=next_move\n",
    "        )\n",
    "\n",
    "    def MakeMove(self, request, context):\n",
    "        game_id = context.peer()\n",
    "        game = self.games.get(game_id)\n",
    "\n",
    "        origin = (request.origin_x, request.origin_y)\n",
    "        dest = (request.dest_x, request.dest_y)\n",
    "        move_result = game.get_move(origin, dest)\n",
    "\n",
    "        if move_result[1] is not None:\n",
    "            status = \"game_over\"\n",
    "            message = move_result[1]\n",
    "        else:\n",
    "            status = \"continue\"\n",
    "            message = \"Movimiento de la máquina: {}\".format(move_result[0])\n",
    "\n",
    "        next_move = (\n",
    "            game_pb2.GameMove(\n",
    "                origin_x=move_result[0][0][0],\n",
    "                origin_y=move_result[0][0][1],\n",
    "                dest_x=move_result[0][1][0],\n",
    "                dest_y=move_result[0][1][1],\n",
    "            )\n",
    "            if move_result[0]\n",
    "            else None\n",
    "        )\n",
    "\n",
    "        return game_pb2.MoveResponse(\n",
    "            status=status, message=message, next_move=next_move\n",
    "        )\n",
    "\n",
    "\n",
    "def serve():\n",
    "    server = grpc.server(futures.ThreadPoolExecutor(max_workers=10))\n",
    "    game_pb2_grpc.add_GameServiceServicer_to_server(GameService(), server)\n",
    "    server.add_insecure_port(\"[::]:50051\")\n",
    "    server.start()\n",
    "    print(\"Server started at port 50051 on localhost\")\n",
    "    server.wait_for_termination()\n",
    "\n",
    "\n",
    "if __name__ == \"__main__\":\n",
    "    serve()\n"
   ]
  },
  {
   "cell_type": "code",
   "execution_count": 13,
   "metadata": {},
   "outputs": [
    {
     "name": "stdout",
     "output_type": "stream",
     "text": [
      "Defaulting to user installation because normal site-packages is not writeable\n",
      "Requirement already satisfied: grpcio in /home/juanipis/.local/lib/python3.10/site-packages (1.58.0)\n",
      "Requirement already satisfied: grpcio-tools in /home/juanipis/.local/lib/python3.10/site-packages (1.58.0)\n",
      "Requirement already satisfied: setuptools in /home/juanipis/.local/lib/python3.10/site-packages (from grpcio-tools) (68.1.2)\n",
      "Requirement already satisfied: protobuf<5.0dev,>=4.21.6 in /home/juanipis/.local/lib/python3.10/site-packages (from grpcio-tools) (4.24.3)\n",
      "Note: you may need to restart the kernel to use updated packages.\n"
     ]
    }
   ],
   "source": [
    "%pip install grpcio grpcio-tools\n"
   ]
  },
  {
   "cell_type": "code",
   "execution_count": 14,
   "metadata": {},
   "outputs": [
    {
     "name": "stderr",
     "output_type": "stream",
     "text": [
      "UsageError: Line magic function `%python` not found (But cell magic `%%python` exists, did you mean that instead?).\n"
     ]
    }
   ],
   "source": [
    "%python -m grpc_tools.protoc -I. --python_out=. --grpc_python_out=. game.proto\n"
   ]
  },
  {
   "cell_type": "code",
   "execution_count": 1,
   "metadata": {},
   "outputs": [],
   "source": [
    "from utils import game_manager"
   ]
  },
  {
   "cell_type": "code",
   "execution_count": 11,
   "metadata": {},
   "outputs": [
    {
     "name": "stdout",
     "output_type": "stream",
     "text": [
      "<bound method GameManager.mini_max of <utils.game_manager.GameManager object at 0x733880b624d0>>\n"
     ]
    },
    {
     "data": {
      "text/plain": [
       "    AI Score : 0\n",
       "Player Score : 0\n",
       "\t*   **   *\n",
       "\t          \n",
       "\t*   **   *\n",
       "\t*   **   *\n",
       "\t          \n",
       "\t*   **   *\n"
      ]
     },
     "execution_count": 11,
     "metadata": {},
     "output_type": "execute_result"
    }
   ],
   "source": [
    "game_min = game_manager.GameManager(2, 2, 3)\n",
    "print(game_min._mode)\n",
    "game_min"
   ]
  },
  {
   "cell_type": "code",
   "execution_count": 12,
   "metadata": {},
   "outputs": [
    {
     "name": "stdout",
     "output_type": "stream",
     "text": [
      "Player 1: 0\n",
      "Player AI: 0\n",
      "\n",
      "   *   *   *\n",
      "            \n",
      "   *   *   *\n",
      "            \n",
      "   *   *   *\n",
      "\n",
      "Movimiento de la máquina: ((0, 2), (1, 2))\n",
      "Player 1: 0\n",
      "Player AI: 0\n",
      "\n",
      "   *   *   *\n",
      "   |        \n",
      "   *   *   *\n",
      "            \n",
      "   *---*   *\n",
      "\n",
      "Movimiento de la máquina: ((1, 1), (2, 1))\n",
      "Player 1: 0\n",
      "Player AI: 0\n",
      "\n",
      "   *---*   *\n",
      "   |        \n",
      "   *   *---*\n",
      "            \n",
      "   *---*   *\n",
      "\n",
      "Movimiento de la máquina: ((1, 1), (1, 2))\n",
      "Player 1: 0\n",
      "Player AI: 0\n",
      "\n",
      "   *---*---*\n",
      "   |        \n",
      "   *   *---*\n",
      "       |    \n",
      "   *---*   *\n",
      "\n",
      "Movimiento de la máquina: ((1, 2), (2, 2))\n",
      "Player 1: 0\n",
      "Player AI: 0\n",
      "\n",
      "   *---*---*\n",
      "   |       |\n",
      "   *   *---*\n",
      "       |    \n",
      "   *---*---*\n",
      "\n",
      "Movimiento de la máquina: ((2, 1), (2, 2))\n",
      "Player 1: 0\n",
      "Player AI: 1\n",
      "\n",
      "   *---*---*\n",
      "   |       |\n",
      "   *   *---*\n",
      "   |   | A |\n",
      "   *---*---*\n",
      "\n"
     ]
    },
    {
     "ename": "ValueError",
     "evalue": "invalid literal for int() with base 10: ''",
     "output_type": "error",
     "traceback": [
      "\u001b[0;31m---------------------------------------------------------------------------\u001b[0m",
      "\u001b[0;31mValueError\u001b[0m                                Traceback (most recent call last)",
      "Cell \u001b[0;32mIn[12], line 9\u001b[0m\n\u001b[1;32m      7\u001b[0m origin \u001b[38;5;241m=\u001b[39m \u001b[38;5;28minput\u001b[39m(\u001b[38;5;124m\"\u001b[39m\u001b[38;5;124mEnter origin coordinates (x,y): \u001b[39m\u001b[38;5;124m\"\u001b[39m)\n\u001b[1;32m      8\u001b[0m \u001b[38;5;66;03m#create a tuple with the coordinates\u001b[39;00m\n\u001b[0;32m----> 9\u001b[0m origin \u001b[38;5;241m=\u001b[39m \u001b[38;5;28;43mtuple\u001b[39;49m\u001b[43m(\u001b[49m\u001b[38;5;28;43mmap\u001b[39;49m\u001b[43m(\u001b[49m\u001b[38;5;28;43mint\u001b[39;49m\u001b[43m,\u001b[49m\u001b[43m \u001b[49m\u001b[43morigin\u001b[49m\u001b[38;5;241;43m.\u001b[39;49m\u001b[43msplit\u001b[49m\u001b[43m(\u001b[49m\u001b[38;5;124;43m'\u001b[39;49m\u001b[38;5;124;43m,\u001b[39;49m\u001b[38;5;124;43m'\u001b[39;49m\u001b[43m)\u001b[49m\u001b[43m)\u001b[49m\u001b[43m)\u001b[49m\n\u001b[1;32m     11\u001b[0m \u001b[38;5;66;03m#get end coordinates\u001b[39;00m\n\u001b[1;32m     12\u001b[0m dest \u001b[38;5;241m=\u001b[39m \u001b[38;5;28minput\u001b[39m(\u001b[38;5;124m\"\u001b[39m\u001b[38;5;124mEnter destination coordinates (x,y): \u001b[39m\u001b[38;5;124m\"\u001b[39m)\n",
      "\u001b[0;31mValueError\u001b[0m: invalid literal for int() with base 10: ''"
     ]
    }
   ],
   "source": [
    "# let's play until the end\n",
    "\n",
    "while True:\n",
    "    game_min._board.display_board()\n",
    "    origin = input(\"Enter origin coordinates (x,y): \")\n",
    "    #create a tuple with the coordinates\n",
    "    origin = tuple(map(int, origin.split(',')))\n",
    "    \n",
    "    #get end coordinates\n",
    "    dest = input(\"Enter destination coordinates (x,y): \")\n",
    "    dest = tuple(map(int, dest.split(',')))\n",
    "    \n",
    "    # Movement result\n",
    "    move_result = game_min.get_move(origin, dest)\n",
    "    if move_result[1] is not None:\n",
    "        print(\"Resultado del juego:\", move_result[1])\n",
    "    else:\n",
    "        print(\"Movimiento de la máquina:\", move_result[0])\n",
    "        \n",
    "    #Clean the cell of the notebook\n",
    "        \n",
    "        \n",
    "        \n",
    "        \n",
    "        "
   ]
  },
  {
   "cell_type": "code",
   "execution_count": 7,
   "metadata": {},
   "outputs": [
    {
     "name": "stdout",
     "output_type": "stream",
     "text": [
      "Tu movimiento: (1, 0) a (2, 0)\n",
      "Invalid player move\n",
      "Movimiento de la máquina: None\n",
      "Player 1: 0\n",
      "Player AI: 0\n",
      "\n",
      "   *---*---*   *\n",
      "                \n",
      "   *   *---*   *\n",
      "               |\n",
      "   *   *   *   *\n",
      "                \n",
      "   *   *   *   *\n",
      "\n"
     ]
    }
   ],
   "source": [
    "# Tu movimiento\n",
    "origin = (1, 0)\n",
    "dest = (2, 0)\n",
    "print(\"Tu movimiento:\", origin, \"a\", dest)\n",
    "move_result = game_min.get_move(origin, dest)\n",
    "\n",
    "# Verifica y muestra el resultado del movimiento\n",
    "if move_result[1] is not None:\n",
    "    print(\"Resultado del juego:\", move_result[1])\n",
    "else:\n",
    "    print(\"Movimiento de la máquina:\", move_result[0])\n",
    "\n",
    "# Opcional: Mostrar el tablero actualizado\n",
    "game_min._board.display_board()\n"
   ]
  }
 ],
 "metadata": {
  "kernelspec": {
   "display_name": "Python 3",
   "language": "python",
   "name": "python3"
  },
  "language_info": {
   "codemirror_mode": {
    "name": "ipython",
    "version": 3
   },
   "file_extension": ".py",
   "mimetype": "text/x-python",
   "name": "python",
   "nbconvert_exporter": "python",
   "pygments_lexer": "ipython3",
   "version": "3.10.12"
  }
 },
 "nbformat": 4,
 "nbformat_minor": 2
}
